{
 "cells": [
  {
   "cell_type": "code",
   "execution_count": 170,
   "metadata": {},
   "outputs": [
    {
     "name": "stdout",
     "output_type": "stream",
     "text": [
      "aa\n",
      "finally\n"
     ]
    }
   ],
   "source": [
    "def f():\n",
    "    raise ValueError('Erro!')\n",
    "\n",
    "def g():\n",
    "    a = f()\n",
    "    print(3)\n",
    "\n",
    "try:\n",
    "    g()\n",
    "except ValueError as e:\n",
    "    print('aa')\n",
    "    #raise e\n",
    "else:\n",
    "    print('passou')\n",
    "finally:\n",
    "    print('finally')\n",
    "\n",
    "#float('+10e')\n"
   ]
  },
  {
   "cell_type": "code",
   "execution_count": null,
   "metadata": {},
   "outputs": [],
   "source": [
    "def opa(*args, **kwargs):\n",
    "    print(type(args))\n",
    "    print(type(kwargs))\n",
    "    def test2(x, y):\n",
    "        print(x)\n",
    "    print(len(args))\n",
    "    test2(*args, **kwargs)\n",
    "\n",
    "a = opa(3, 4, 5)"
   ]
  },
  {
   "cell_type": "code",
   "execution_count": 163,
   "metadata": {},
   "outputs": [
    {
     "name": "stdout",
     "output_type": "stream",
     "text": [
      "['0x0', '0x20', '0x0', '0x2', '0x30']\n",
      "['0x0', '0x20', '0x0', '0x2', '0x30', '0x1']\n",
      "['0x0', '0x20', '0x0', '0x2', '0x30', '0x1', '0xad']\n"
     ]
    }
   ],
   "source": [
    "import struct\n",
    "\n",
    "BUSY =          0xe8\n",
    "READ_OK =       0x11\n",
    "WRITE_OK =      0xe0\n",
    "INVALID_ID =    0xe3\n",
    "BAD_FORMATTED = 0xe1\n",
    "ENABLE_CH_AB = 0x30\n",
    "BSMP_WRITE = 0X20\n",
    "\n",
    "message = [0x00, 0x10]\n",
    "\n",
    "def includeChecksum(list_values):\n",
    "    counter = 0\n",
    "    i = 0\n",
    "    while (i < len(list_values)):\n",
    "        counter += list_values[i]\n",
    "        i += 1\n",
    "    counter = (counter & 0xFF)\n",
    "    counter = (256 - counter) & 0xFF\n",
    "    return(list_values + [counter])\n",
    "\n",
    "def verifyChecksum(list_values):\n",
    "    counter = 0\n",
    "    for data in list_values:\n",
    "        counter += data\n",
    "       \n",
    "    counter = (counter & 255)\n",
    "    return(counter)\n",
    "\n",
    "en_1 = [0x00, 0x20, 0x00, 0x02, 0x30, 0x01]\n",
    "#print(en_1)\n",
    "\n",
    "v = 0x01\n",
    "\n",
    "def sendVariable(statusID, variableID = 0x00, value = 0x00, size = 1):\n",
    "    send_message = [0x00, statusID] + [c for c in struct.pack(\"!h\", size + 1)] + [variableID]\n",
    "    print([hex(x) for x in send_message])\n",
    "    if size == 1:\n",
    "        send_message = send_message + [value]\n",
    "        print([hex(x) for x in send_message])\n",
    "    elif size == 2:\n",
    "        send_message = send_message + [c for c in struct.pack(\"!h\", value)]\n",
    "    elif size == 4:\n",
    "        send_message = send_message + [c for c in struct.pack(\"!I\", value)]\n",
    "    return(\"\".join(map(chr, includeChecksum(send_message))))\n",
    "\n",
    "print([hex(x) for x in sendVariable(BSMP_WRITE, variableID=ENABLE_CH_AB, value=0x01).encode('latin-1')])\n",
    "#verifyChecksum(sendVariable(BSMP_WRITE, variableID=ENABLE_CH_AB, value=0x01).encode('latin-1'))\n"
   ]
  }
 ],
 "metadata": {
  "kernelspec": {
   "display_name": "Python 3.10.6 ('holyShit')",
   "language": "python",
   "name": "python3"
  },
  "language_info": {
   "codemirror_mode": {
    "name": "ipython",
    "version": 3
   },
   "file_extension": ".py",
   "mimetype": "text/x-python",
   "name": "python",
   "nbconvert_exporter": "python",
   "pygments_lexer": "ipython3",
   "version": "3.10.6"
  },
  "orig_nbformat": 4,
  "vscode": {
   "interpreter": {
    "hash": "2c33fddc139a657198772a46447f215e0a11219d48dc612e4d17122af310f362"
   }
  }
 },
 "nbformat": 4,
 "nbformat_minor": 2
}
