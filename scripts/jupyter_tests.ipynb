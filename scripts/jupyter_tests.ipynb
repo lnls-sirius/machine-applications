{
 "cells": [
  {
   "cell_type": "code",
   "execution_count": null,
   "metadata": {},
   "outputs": [],
   "source": [
    "def f():\n",
    "    try:\n",
    "        raise ValueError('Erro!')\n",
    "    except:\n",
    "        print('oi')\n",
    "\n",
    "def g():\n",
    "    try:\n",
    "        f()\n",
    "    except Exception:\n",
    "        print('test')\n",
    "\n",
    "for i in range(2):\n",
    "    a = 3\n",
    "    print(a)\n",
    "    a = f()\n",
    "print(a)\n",
    "\n",
    "\n"
   ]
  },
  {
   "cell_type": "code",
   "execution_count": null,
   "metadata": {},
   "outputs": [],
   "source": [
    "class my_class():\n",
    "    class_variable = None\n",
    "    def __init__(self) -> None:\n",
    "        if my_class.class_variable == None:\n",
    "            #self.class_variable = 5\n",
    "            my_class.class_variable = 5\n",
    "            self.class_variable = 3\n",
    "            my_class.class_variable = 5\n",
    "            print(f'Primeira instância, class_variable deve ser None: {my_class.class_variable}, {self.class_variable}')\n",
    "        else:\n",
    "            print(f'Segunda instância, class_variable deve ser 5: {my_class.class_variable}, {self.class_variable}')\n",
    "\n",
    "a = my_class()\n",
    "a.class_variable = 3\n",
    "b = my_class()\n"
   ]
  },
  {
   "cell_type": "code",
   "execution_count": null,
   "metadata": {},
   "outputs": [],
   "source": [
    "import socket\n",
    "tcp_socket = socket.socket(socket.AF_INET, socket.SOCK_STREAM)\n",
    "tcp_socket.getsockname()\n",
    "#tcp_socket.connect(('10.0.28.78', 5050))\n",
    "#tcp_socket.close()\n",
    "class sock_test():\n",
    "    def __init__(self, s: socket.socket) -> None:\n",
    "        try:\n",
    "            sock_test.sock = s\n",
    "            sock_test.sock.connect(('10.0.28.78', 5050))\n",
    "            #sock.connect(('10.0.28.78', 5050))\n",
    "            sock_test.sock.fileno\n",
    "            #sock.close()\n",
    "        except socket.error as e:\n",
    "            if '106' in str(e): print('Already connected')\n",
    "            print(e)\n",
    "    \n",
    "    def close_sock(sock: socket.socket):\n",
    "        sock.close()\n",
    "\n",
    "s1 = sock_test(tcp_socket)\n",
    "s2 = sock_test(tcp_socket)"
   ]
  },
  {
   "cell_type": "code",
   "execution_count": 74,
   "metadata": {},
   "outputs": [],
   "source": [
    "tcp_socket.close()"
   ]
  },
  {
   "cell_type": "code",
   "execution_count": 16,
   "metadata": {},
   "outputs": [],
   "source": [
    "import logging\n",
    "\n",
    "logging.basicConfig(filename='teste.log', filemode='a', level=logging.INFO,\n",
    "                    format='%(asctime)s - %(name)s - %(levelname)s - %(message)s', datefmt='%d-%b-%y %H:%M:%S', encoding='utf-8')\n",
    "logger = logging.getLogger()\n",
    "logger.info('Testando')\n",
    "logger.error('Teste')"
   ]
  }
 ],
 "metadata": {
  "kernelspec": {
   "display_name": "Python 3.10.6 ('holyShit')",
   "language": "python",
   "name": "python3"
  },
  "language_info": {
   "codemirror_mode": {
    "name": "ipython",
    "version": 3
   },
   "file_extension": ".py",
   "mimetype": "text/x-python",
   "name": "python",
   "nbconvert_exporter": "python",
   "pygments_lexer": "ipython3",
   "version": "3.10.6"
  },
  "orig_nbformat": 4,
  "vscode": {
   "interpreter": {
    "hash": "2c33fddc139a657198772a46447f215e0a11219d48dc612e4d17122af310f362"
   }
  }
 },
 "nbformat": 4,
 "nbformat_minor": 2
}
