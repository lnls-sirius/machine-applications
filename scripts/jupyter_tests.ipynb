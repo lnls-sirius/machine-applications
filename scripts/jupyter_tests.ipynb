{
 "cells": [
  {
   "cell_type": "code",
   "execution_count": 5,
   "metadata": {},
   "outputs": [
    {
     "name": "stdout",
     "output_type": "stream",
     "text": [
      "passou\n",
      "finally\n",
      "None\n"
     ]
    }
   ],
   "source": [
    "def f():\n",
    "    raise ValueError('Erro!')\n",
    "    return 3\n",
    "\n",
    "def g():\n",
    "    try:\n",
    "        f()\n",
    "        return 3\n",
    "    except:\n",
    "        'teste'\n",
    "\n",
    "try:\n",
    "    g()\n",
    "except ValueError as e:\n",
    "    print('aa')\n",
    "    #raise e\n",
    "else:\n",
    "    print('passou')\n",
    "finally:\n",
    "    print('finally')\n",
    "\n",
    "#float('+10e')\n",
    "a = 3\n",
    "a = g()\n",
    "print(a)\n"
   ]
  },
  {
   "cell_type": "code",
   "execution_count": null,
   "metadata": {},
   "outputs": [],
   "source": [
    "def opa(*args, **kwargs):\n",
    "    print(type(args))\n",
    "    print(type(kwargs))\n",
    "    def test2(x, y):\n",
    "        print(x)\n",
    "    print(len(args))\n",
    "    test2(*args, **kwargs)\n",
    "\n",
    "a = opa(3, 4, 5)"
   ]
  },
  {
   "cell_type": "code",
   "execution_count": 2,
   "metadata": {},
   "outputs": [],
   "source": [
    "import logging\n",
    "\n",
    "logging.basicConfig(filename='teste.txt', filemode='w', level=logging.INFO,\n",
    "                    format='%(asctime)s - %(name)s - %(levelname)s - %(message)s', datefmt='%d-%b-%y %H:%M:%S', encoding='utf-8')\n",
    "logger = logging.getLogger()\n",
    "logger.info('Testando')\n",
    "logger.error('Teste')"
   ]
  }
 ],
 "metadata": {
  "kernelspec": {
   "display_name": "Python 3.10.6 ('holyShit')",
   "language": "python",
   "name": "python3"
  },
  "language_info": {
   "codemirror_mode": {
    "name": "ipython",
    "version": 3
   },
   "file_extension": ".py",
   "mimetype": "text/x-python",
   "name": "python",
   "nbconvert_exporter": "python",
   "pygments_lexer": "ipython3",
   "version": "3.10.6"
  },
  "orig_nbformat": 4,
  "vscode": {
   "interpreter": {
    "hash": "2c33fddc139a657198772a46447f215e0a11219d48dc612e4d17122af310f362"
   }
  }
 },
 "nbformat": 4,
 "nbformat_minor": 2
}
