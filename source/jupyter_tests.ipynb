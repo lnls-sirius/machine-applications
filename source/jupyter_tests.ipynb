{
 "cells": [
  {
   "cell_type": "code",
   "execution_count": null,
   "metadata": {},
   "outputs": [],
   "source": [
    "def f():\n",
    "    raise ValueError('Erro!')\n",
    "\n",
    "def g():\n",
    "    a = f()\n",
    "    return 3\n",
    "\n",
    "try:\n",
    "    g()\n",
    "except ValueError as e:\n",
    "    print('aa')\n",
    "\n",
    "float('+10e')\n"
   ]
  },
  {
   "cell_type": "code",
   "execution_count": 14,
   "metadata": {},
   "outputs": [
    {
     "name": "stdout",
     "output_type": "stream",
     "text": [
      "<class 'tuple'>\n",
      "<class 'dict'>\n",
      "3\n"
     ]
    },
    {
     "ename": "TypeError",
     "evalue": "opa.<locals>.test2() takes 2 positional arguments but 3 were given",
     "output_type": "error",
     "traceback": [
      "\u001b[0;31m---------------------------------------------------------------------------\u001b[0m",
      "\u001b[0;31mTypeError\u001b[0m                                 Traceback (most recent call last)",
      "\u001b[1;32m/home/ABTLUS/rafael.cardoso/repositories/uvvundulator-ioc/source/jupyter_tests.ipynb Cell 2\u001b[0m in \u001b[0;36m<cell line: 9>\u001b[0;34m()\u001b[0m\n\u001b[1;32m      <a href='vscode-notebook-cell://ssh-remote%2Bg-gas07-l/home/ABTLUS/rafael.cardoso/repositories/uvvundulator-ioc/source/jupyter_tests.ipynb#W1sdnNjb2RlLXJlbW90ZQ%3D%3D?line=5'>6</a>\u001b[0m     \u001b[39mprint\u001b[39m(\u001b[39mlen\u001b[39m(args))\n\u001b[1;32m      <a href='vscode-notebook-cell://ssh-remote%2Bg-gas07-l/home/ABTLUS/rafael.cardoso/repositories/uvvundulator-ioc/source/jupyter_tests.ipynb#W1sdnNjb2RlLXJlbW90ZQ%3D%3D?line=6'>7</a>\u001b[0m     test2(\u001b[39m*\u001b[39margs, \u001b[39m*\u001b[39m\u001b[39m*\u001b[39mkwargs)\n\u001b[0;32m----> <a href='vscode-notebook-cell://ssh-remote%2Bg-gas07-l/home/ABTLUS/rafael.cardoso/repositories/uvvundulator-ioc/source/jupyter_tests.ipynb#W1sdnNjb2RlLXJlbW90ZQ%3D%3D?line=8'>9</a>\u001b[0m a \u001b[39m=\u001b[39m opa(\u001b[39m3\u001b[39;49m, \u001b[39m4\u001b[39;49m, \u001b[39m5\u001b[39;49m)\n",
      "\u001b[1;32m/home/ABTLUS/rafael.cardoso/repositories/uvvundulator-ioc/source/jupyter_tests.ipynb Cell 2\u001b[0m in \u001b[0;36mopa\u001b[0;34m(*args, **kwargs)\u001b[0m\n\u001b[1;32m      <a href='vscode-notebook-cell://ssh-remote%2Bg-gas07-l/home/ABTLUS/rafael.cardoso/repositories/uvvundulator-ioc/source/jupyter_tests.ipynb#W1sdnNjb2RlLXJlbW90ZQ%3D%3D?line=4'>5</a>\u001b[0m     \u001b[39mprint\u001b[39m(x)\n\u001b[1;32m      <a href='vscode-notebook-cell://ssh-remote%2Bg-gas07-l/home/ABTLUS/rafael.cardoso/repositories/uvvundulator-ioc/source/jupyter_tests.ipynb#W1sdnNjb2RlLXJlbW90ZQ%3D%3D?line=5'>6</a>\u001b[0m \u001b[39mprint\u001b[39m(\u001b[39mlen\u001b[39m(args))\n\u001b[0;32m----> <a href='vscode-notebook-cell://ssh-remote%2Bg-gas07-l/home/ABTLUS/rafael.cardoso/repositories/uvvundulator-ioc/source/jupyter_tests.ipynb#W1sdnNjb2RlLXJlbW90ZQ%3D%3D?line=6'>7</a>\u001b[0m test2(\u001b[39m*\u001b[39;49margs, \u001b[39m*\u001b[39;49m\u001b[39m*\u001b[39;49mkwargs)\n",
      "\u001b[0;31mTypeError\u001b[0m: opa.<locals>.test2() takes 2 positional arguments but 3 were given"
     ]
    }
   ],
   "source": [
    "def opa(*args, **kwargs):\n",
    "    print(type(args))\n",
    "    print(type(kwargs))\n",
    "    def test2(x, y):\n",
    "        print(x)\n",
    "    print(len(args))\n",
    "    test2(*args, **kwargs)\n",
    "\n",
    "a = opa(3, 4, 5)"
   ]
  }
 ],
 "metadata": {
  "kernelspec": {
   "display_name": "Python 3.10.6 ('holyShit')",
   "language": "python",
   "name": "python3"
  },
  "language_info": {
   "codemirror_mode": {
    "name": "ipython",
    "version": 3
   },
   "file_extension": ".py",
   "mimetype": "text/x-python",
   "name": "python",
   "nbconvert_exporter": "python",
   "pygments_lexer": "ipython3",
   "version": "3.10.6"
  },
  "orig_nbformat": 4,
  "vscode": {
   "interpreter": {
    "hash": "2c33fddc139a657198772a46447f215e0a11219d48dc612e4d17122af310f362"
   }
  }
 },
 "nbformat": 4,
 "nbformat_minor": 2
}
