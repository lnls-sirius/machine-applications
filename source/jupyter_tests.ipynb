{
 "cells": [
  {
   "cell_type": "code",
   "execution_count": null,
   "metadata": {},
   "outputs": [],
   "source": [
    "def f():\n",
    "    raise ValueError('Erro!')\n",
    "\n",
    "def g():\n",
    "    a = f()\n",
    "    print(3)\n",
    "\n",
    "try:\n",
    "    g()\n",
    "except ValueError as e:\n",
    "    print('aa')\n",
    "    raise e\n",
    "\n",
    "#float('+10e')\n"
   ]
  },
  {
   "cell_type": "code",
   "execution_count": null,
   "metadata": {},
   "outputs": [],
   "source": [
    "def opa(*args, **kwargs):\n",
    "    print(type(args))\n",
    "    print(type(kwargs))\n",
    "    def test2(x, y):\n",
    "        print(x)\n",
    "    print(len(args))\n",
    "    test2(*args, **kwargs)\n",
    "\n",
    "a = opa(3, 4, 5)"
   ]
  },
  {
   "cell_type": "code",
   "execution_count": 62,
   "metadata": {},
   "outputs": [
    {
     "name": "stdout",
     "output_type": "stream",
     "text": [
      "[b'\\x00\\x01']\n"
     ]
    },
    {
     "data": {
      "text/plain": [
       "b'\\x00\\xe0\\x00\\x01\\x00\\x1f'"
      ]
     },
     "execution_count": 62,
     "metadata": {},
     "output_type": "execute_result"
    }
   ],
   "source": [
    "import struct\n",
    "\n",
    "BUSY =          0xe8\n",
    "READ_OK =       0x11\n",
    "WRITE_OK =      0xe0\n",
    "INVALID_ID =    0xe3\n",
    "BAD_FORMATTED = 0xe1\n",
    "ENABLE_CH_AB = 0x30\n",
    "\n",
    "message = [0x00, 0x10]\n",
    "\n",
    "def includeChecksum(list_values):\n",
    "    counter = 0\n",
    "    i = 0\n",
    "    while (i < len(list_values)):\n",
    "        counter += list_values[i]\n",
    "        i += 1\n",
    "    counter = (counter & 0xFF)\n",
    "    counter = (256 - counter) & 0xFF\n",
    "    return(list_values + [counter])\n",
    "\n",
    "def bsmp_send(command_type, command = 0x00):\n",
    "    #assert command == 0x10 or command == 0x20\n",
    "    print([struct.pack(\"!h\", 1)])\n",
    "    send_message = [0x00, command_type] + [c for c in struct.pack(\"!h\", 1)] + [command]\n",
    "    send_message = includeChecksum(send_message)\n",
    "    return(\"\".join(map(chr, send_message)))\n",
    "\n",
    "# print('[{}]'.format(', '.join(hex(x) for x in bsmp_send(0x20, command=ENABLE_CH_AB).encode())))\n",
    "# print(bsmp_send(0x20, command=ENABLE_CH_AB).encode())\n",
    "bsmp_send(WRITE_OK).encode('latin-1')"
   ]
  }
 ],
 "metadata": {
  "kernelspec": {
   "display_name": "Python 3.10.6 ('holyShit')",
   "language": "python",
   "name": "python3"
  },
  "language_info": {
   "codemirror_mode": {
    "name": "ipython",
    "version": 3
   },
   "file_extension": ".py",
   "mimetype": "text/x-python",
   "name": "python",
   "nbconvert_exporter": "python",
   "pygments_lexer": "ipython3",
   "version": "3.10.6"
  },
  "orig_nbformat": 4,
  "vscode": {
   "interpreter": {
    "hash": "2c33fddc139a657198772a46447f215e0a11219d48dc612e4d17122af310f362"
   }
  }
 },
 "nbformat": 4,
 "nbformat_minor": 2
}
