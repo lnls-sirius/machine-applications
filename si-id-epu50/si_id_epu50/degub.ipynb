{
 "cells": [
  {
   "cell_type": "code",
   "execution_count": 1,
   "metadata": {},
   "outputs": [],
   "source": [
    "# Imports and logging setup\n",
    "from ecodrive import EcoDrive\n",
    "from connection_handler import TCPClient\n",
    "import socket\n",
    "import logging\n",
    "logger = logging.getLogger(__name__)\n",
    "import time\n",
    "from epu import Epu, default_args\n",
    "\n",
    "def get_file_handler(file: str):\n",
    "    # logger.handlers.clear()\n",
    "    fh = logging.handlers.RotatingFileHandler(file, maxBytes=10000000, backupCount=10)\n",
    "    fh.setLevel(logging.DEBUG)\n",
    "    fh.setFormatter(logging.Formatter(\"%(asctime)s — %(name)s — %(levelname)s — %(funcName)s:%(lineno)d — %(message)s\"))\n",
    "    return fh\n",
    "\n",
    "def get_logger(file_handler):\n",
    "    lg = logging.getLogger()\n",
    "    lg.setLevel(logging.INFO)\n",
    "    lg.addHandler(file_handler)\n",
    "    return lg\n",
    "\n",
    "logger.handlers.clear()\n",
    "fh = get_file_handler('debug.log')\n",
    "root = get_logger(fh)"
   ]
  },
  {
   "cell_type": "code",
   "execution_count": 2,
   "metadata": {},
   "outputs": [],
   "source": [
    "# EcoDrive functions debug\n",
    "try:\n",
    "    sock.close()\n",
    "    del eco\n",
    "except:\n",
    "    pass\n",
    "sock = TCPClient('10.128.110.160', 5052)\n",
    "sock.connect()\n",
    "eco = EcoDrive(sock, 21, 300, 22, 'A')\n",
    "def read_all_parameters(n: int):\n",
    "    pos = eco.read_encoder()\n",
    "    for i in range(n):\n",
    "        print(eco.read_resolver())\n",
    "        print(eco.read_encoder())\n",
    "        print(eco.get_target_position())\n",
    "        print(eco.get_max_velocity())\n",
    "        print(eco.set_target_position(pos))\n"
   ]
  },
  {
   "cell_type": "code",
   "execution_count": 3,
   "metadata": {},
   "outputs": [
    {
     "name": "stdout",
     "output_type": "stream",
     "text": [
      "230.0223\n",
      "230.0\n",
      "230.0\n",
      "120.0\n",
      "True\n",
      "230.0223\n",
      "230.0\n",
      "230.0\n",
      "120.0\n",
      "True\n",
      "230.0223\n",
      "230.0\n",
      "230.0\n",
      "120.0\n",
      "True\n",
      "230.0223\n",
      "230.0\n",
      "230.0\n",
      "120.0\n",
      "True\n",
      "230.0223\n",
      "230.0\n",
      "230.0\n",
      "120.0\n",
      "True\n",
      "230.0223\n",
      "230.0\n",
      "230.0\n",
      "120.0\n",
      "True\n",
      "230.0223\n",
      "230.0\n",
      "230.0\n",
      "120.0\n",
      "True\n",
      "230.0223\n",
      "230.0\n",
      "230.0\n",
      "120.0\n",
      "True\n",
      "230.0223\n",
      "230.0\n",
      "230.0\n",
      "120.0\n",
      "True\n",
      "230.0223\n",
      "230.0\n",
      "230.0\n",
      "120.0\n",
      "True\n"
     ]
    }
   ],
   "source": [
    "read_all_parameters(10)"
   ]
  }
 ],
 "metadata": {
  "kernelspec": {
   "display_name": "epu",
   "language": "python",
   "name": "python3"
  },
  "language_info": {
   "codemirror_mode": {
    "name": "ipython",
    "version": 3
   },
   "file_extension": ".py",
   "mimetype": "text/x-python",
   "name": "python",
   "nbconvert_exporter": "python",
   "pygments_lexer": "ipython3",
   "version": "3.8.16"
  },
  "orig_nbformat": 4
 },
 "nbformat": 4,
 "nbformat_minor": 2
}
